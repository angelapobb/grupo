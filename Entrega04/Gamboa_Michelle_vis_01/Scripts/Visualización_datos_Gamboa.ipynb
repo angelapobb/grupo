{
  "nbformat": 4,
  "nbformat_minor": 0,
  "metadata": {
    "colab": {
      "provenance": []
    },
    "kernelspec": {
      "name": "python3",
      "display_name": "Python 3"
    },
    "language_info": {
      "name": "python"
    }
  },
  "cells": [
    {
      "cell_type": "code",
      "source": [],
      "metadata": {
        "id": "X6P4cgrEtxbf"
      },
      "execution_count": null,
      "outputs": []
    },
    {
      "cell_type": "code",
      "source": [
        "import pandas as pd\n",
        "import altair as alt\n",
        "\n",
        "# Cargar los datos de oncólogos\n",
        "oncologos = pd.read_csv('oncologos_por_region.csv')\n",
        "\n",
        "# Limpiar los nombres de las regiones (eliminar espacios y caracteres extra)\n",
        "oncologos['Región'] = oncologos['Región'].str.strip()\n",
        "\n",
        "# Filtrar para eliminar la fila \"Total país\"\n",
        "oncologos = oncologos[oncologos['Región'] != 'Total país']\n",
        "\n",
        "# Asegurarse de que 'Región' sea un tipo categórico\n",
        "oncologos['Región'] = oncologos['Región'].astype('category')\n",
        "\n",
        "# Crear el gráfico\n",
        "chart_oncologos = alt.Chart(oncologos).mark_bar().encode(\n",
        "    x=alt.X('Región:N', title='Región'),  # Asegurarse de que la columna 'Región' sea de tipo categórico\n",
        "    y=alt.Y('Total_Oncólogos:Q', scale=alt.Scale(domain=[0, 100])),  # Limitar el eje Y a 100\n",
        "    color='Región:N'\n",
        ").properties(\n",
        "    title='Cantidad de Oncólogos por Región'\n",
        ").interactive()\n",
        "\n",
        "# Guardar el gráfico como archivo HTML\n",
        "chart_oncologos.save('grafico_oncologos_sin_total_pais.html')\n",
        "print(\"Gráfico de oncólogos sin 'Total país' guardado como 'grafico_oncologos_sin_total_pais.html'\")\n",
        "\n",
        "# Mostrar el gráfico\n",
        "chart_oncologos.show()\n"
      ],
      "metadata": {
        "colab": {
          "base_uri": "https://localhost:8080/",
          "height": 376
        },
        "id": "QaEnrcT0pyoQ",
        "outputId": "a7735cde-3d40-4c44-b2be-317968a71d97"
      },
      "execution_count": 43,
      "outputs": [
        {
          "output_type": "stream",
          "name": "stdout",
          "text": [
            "Gráfico de oncólogos sin 'Total país' guardado como 'grafico_oncologos_sin_total_pais.html'\n",
            "Displaying chart at http://localhost:39729/\n"
          ]
        },
        {
          "output_type": "error",
          "ename": "KeyboardInterrupt",
          "evalue": "",
          "traceback": [
            "\u001b[0;31m---------------------------------------------------------------------------\u001b[0m",
            "\u001b[0;31mKeyboardInterrupt\u001b[0m                         Traceback (most recent call last)",
            "\u001b[0;32m<ipython-input-43-719e12b55f64>\u001b[0m in \u001b[0;36m<cell line: 30>\u001b[0;34m()\u001b[0m\n\u001b[1;32m     28\u001b[0m \u001b[0;34m\u001b[0m\u001b[0m\n\u001b[1;32m     29\u001b[0m \u001b[0;31m# Mostrar el gráfico\u001b[0m\u001b[0;34m\u001b[0m\u001b[0;34m\u001b[0m\u001b[0m\n\u001b[0;32m---> 30\u001b[0;31m \u001b[0mchart_oncologos\u001b[0m\u001b[0;34m.\u001b[0m\u001b[0mshow\u001b[0m\u001b[0;34m(\u001b[0m\u001b[0;34m)\u001b[0m\u001b[0;34m\u001b[0m\u001b[0;34m\u001b[0m\u001b[0m\n\u001b[0m",
            "\u001b[0;32m/usr/local/lib/python3.10/dist-packages/altair/vegalite/v4/api.py\u001b[0m in \u001b[0;36mshow\u001b[0;34m(self, embed_opt, open_browser)\u001b[0m\n\u001b[1;32m   1793\u001b[0m                 \u001b[0;34m\"See http://github.com/altair-viz/altair_viewer\"\u001b[0m\u001b[0;34m\u001b[0m\u001b[0;34m\u001b[0m\u001b[0m\n\u001b[1;32m   1794\u001b[0m             )\n\u001b[0;32m-> 1795\u001b[0;31m         \u001b[0maltair_viewer\u001b[0m\u001b[0;34m.\u001b[0m\u001b[0mshow\u001b[0m\u001b[0;34m(\u001b[0m\u001b[0mself\u001b[0m\u001b[0;34m,\u001b[0m \u001b[0membed_opt\u001b[0m\u001b[0;34m=\u001b[0m\u001b[0membed_opt\u001b[0m\u001b[0;34m,\u001b[0m \u001b[0mopen_browser\u001b[0m\u001b[0;34m=\u001b[0m\u001b[0mopen_browser\u001b[0m\u001b[0;34m)\u001b[0m\u001b[0;34m\u001b[0m\u001b[0;34m\u001b[0m\u001b[0m\n\u001b[0m\u001b[1;32m   1796\u001b[0m \u001b[0;34m\u001b[0m\u001b[0m\n\u001b[1;32m   1797\u001b[0m     \u001b[0;34m@\u001b[0m\u001b[0mutils\u001b[0m\u001b[0;34m.\u001b[0m\u001b[0muse_signature\u001b[0m\u001b[0;34m(\u001b[0m\u001b[0mcore\u001b[0m\u001b[0;34m.\u001b[0m\u001b[0mResolve\u001b[0m\u001b[0;34m)\u001b[0m\u001b[0;34m\u001b[0m\u001b[0;34m\u001b[0m\u001b[0m\n",
            "\u001b[0;32m/usr/local/lib/python3.10/dist-packages/altair_viewer/_viewer.py\u001b[0m in \u001b[0;36mshow\u001b[0;34m(self, chart, embed_opt, open_browser)\u001b[0m\n\u001b[1;32m    356\u001b[0m         \u001b[0mprint\u001b[0m\u001b[0;34m(\u001b[0m\u001b[0mmsg\u001b[0m\u001b[0;34m)\u001b[0m\u001b[0;34m\u001b[0m\u001b[0;34m\u001b[0m\u001b[0m\n\u001b[1;32m    357\u001b[0m         \u001b[0;32mif\u001b[0m \u001b[0mself\u001b[0m\u001b[0;34m.\u001b[0m\u001b[0m_provider\u001b[0m \u001b[0;32mis\u001b[0m \u001b[0;32mnot\u001b[0m \u001b[0;32mNone\u001b[0m\u001b[0;34m:\u001b[0m\u001b[0;34m\u001b[0m\u001b[0;34m\u001b[0m\u001b[0m\n\u001b[0;32m--> 358\u001b[0;31m             \u001b[0mself\u001b[0m\u001b[0;34m.\u001b[0m\u001b[0m_provider\u001b[0m\u001b[0;34m.\u001b[0m\u001b[0m_disconnect_event\u001b[0m\u001b[0;34m.\u001b[0m\u001b[0mwait\u001b[0m\u001b[0;34m(\u001b[0m\u001b[0;34m)\u001b[0m\u001b[0;34m\u001b[0m\u001b[0;34m\u001b[0m\u001b[0m\n\u001b[0m",
            "\u001b[0;32m/usr/lib/python3.10/threading.py\u001b[0m in \u001b[0;36mwait\u001b[0;34m(self, timeout)\u001b[0m\n\u001b[1;32m    605\u001b[0m             \u001b[0msignaled\u001b[0m \u001b[0;34m=\u001b[0m \u001b[0mself\u001b[0m\u001b[0;34m.\u001b[0m\u001b[0m_flag\u001b[0m\u001b[0;34m\u001b[0m\u001b[0;34m\u001b[0m\u001b[0m\n\u001b[1;32m    606\u001b[0m             \u001b[0;32mif\u001b[0m \u001b[0;32mnot\u001b[0m \u001b[0msignaled\u001b[0m\u001b[0;34m:\u001b[0m\u001b[0;34m\u001b[0m\u001b[0;34m\u001b[0m\u001b[0m\n\u001b[0;32m--> 607\u001b[0;31m                 \u001b[0msignaled\u001b[0m \u001b[0;34m=\u001b[0m \u001b[0mself\u001b[0m\u001b[0;34m.\u001b[0m\u001b[0m_cond\u001b[0m\u001b[0;34m.\u001b[0m\u001b[0mwait\u001b[0m\u001b[0;34m(\u001b[0m\u001b[0mtimeout\u001b[0m\u001b[0;34m)\u001b[0m\u001b[0;34m\u001b[0m\u001b[0;34m\u001b[0m\u001b[0m\n\u001b[0m\u001b[1;32m    608\u001b[0m             \u001b[0;32mreturn\u001b[0m \u001b[0msignaled\u001b[0m\u001b[0;34m\u001b[0m\u001b[0;34m\u001b[0m\u001b[0m\n\u001b[1;32m    609\u001b[0m \u001b[0;34m\u001b[0m\u001b[0m\n",
            "\u001b[0;32m/usr/lib/python3.10/threading.py\u001b[0m in \u001b[0;36mwait\u001b[0;34m(self, timeout)\u001b[0m\n\u001b[1;32m    318\u001b[0m         \u001b[0;32mtry\u001b[0m\u001b[0;34m:\u001b[0m    \u001b[0;31m# restore state no matter what (e.g., KeyboardInterrupt)\u001b[0m\u001b[0;34m\u001b[0m\u001b[0;34m\u001b[0m\u001b[0m\n\u001b[1;32m    319\u001b[0m             \u001b[0;32mif\u001b[0m \u001b[0mtimeout\u001b[0m \u001b[0;32mis\u001b[0m \u001b[0;32mNone\u001b[0m\u001b[0;34m:\u001b[0m\u001b[0;34m\u001b[0m\u001b[0;34m\u001b[0m\u001b[0m\n\u001b[0;32m--> 320\u001b[0;31m                 \u001b[0mwaiter\u001b[0m\u001b[0;34m.\u001b[0m\u001b[0macquire\u001b[0m\u001b[0;34m(\u001b[0m\u001b[0;34m)\u001b[0m\u001b[0;34m\u001b[0m\u001b[0;34m\u001b[0m\u001b[0m\n\u001b[0m\u001b[1;32m    321\u001b[0m                 \u001b[0mgotit\u001b[0m \u001b[0;34m=\u001b[0m \u001b[0;32mTrue\u001b[0m\u001b[0;34m\u001b[0m\u001b[0;34m\u001b[0m\u001b[0m\n\u001b[1;32m    322\u001b[0m             \u001b[0;32melse\u001b[0m\u001b[0;34m:\u001b[0m\u001b[0;34m\u001b[0m\u001b[0;34m\u001b[0m\u001b[0m\n",
            "\u001b[0;31mKeyboardInterrupt\u001b[0m: "
          ]
        }
      ]
    },
    {
      "cell_type": "code",
      "source": [
        "import pandas as pd\n",
        "import altair as alt\n",
        "\n",
        "# Cargar los datos de cardiólogos\n",
        "cardiologos = pd.read_csv('cardiologos_por_region.csv')\n",
        "\n",
        "# Limpiar los nombres de las regiones (eliminar espacios y caracteres extra)\n",
        "cardiologos['Región'] = cardiologos['Región'].str.strip()\n",
        "\n",
        "# Filtrar para eliminar la fila \"Total país\"\n",
        "cardiologos = cardiologos[cardiologos['Región'] != 'Total país']\n",
        "\n",
        "# Asegurarse de que 'Región' sea un tipo categórico\n",
        "cardiologos['Región'] = cardiologos['Región'].astype('category')\n",
        "\n",
        "# Crear el gráfico\n",
        "chart_cardiologos = alt.Chart(cardiologos).mark_bar().encode(\n",
        "    x=alt.X('Región:N', title='Región'),  # Asegurarse de que la columna 'Región' sea de tipo categórico\n",
        "    y=alt.Y('Total_Cardiólogos:Q', scale=alt.Scale(domain=[0, 250])),  # Limitar el eje Y a 100\n",
        "    color='Región:N'\n",
        ").properties(\n",
        "    title='Cantidad de Cardiólogos por Región'\n",
        ").interactive()\n",
        "\n",
        "# Guardar el gráfico como archivo HTML\n",
        "chart_cardiologos.save('grafico_cardiologos_sin_total_pais.html')\n",
        "print(\"Gráfico de cardiólogos sin 'Total país' guardado como 'grafico_cardiologos_sin_total_pais.html'\")\n",
        "\n",
        "# Mostrar el gráfico\n",
        "chart_cardiologos.show()\n"
      ],
      "metadata": {
        "colab": {
          "base_uri": "https://localhost:8080/"
        },
        "id": "P70Zts_xp7NC",
        "outputId": "2769d8fb-826c-4dae-af89-feaa934c742d"
      },
      "execution_count": null,
      "outputs": [
        {
          "output_type": "stream",
          "name": "stdout",
          "text": [
            "Gráfico de cardiólogos sin 'Total país' guardado como 'grafico_cardiologos_sin_total_pais.html'\n",
            "Displaying chart at http://localhost:39729/\n"
          ]
        }
      ]
    }
  ]
}