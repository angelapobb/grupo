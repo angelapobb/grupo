{
  "nbformat": 4,
  "nbformat_minor": 0,
  "metadata": {
    "colab": {
      "provenance": []
    },
    "kernelspec": {
      "name": "python3",
      "display_name": "Python 3"
    },
    "language_info": {
      "name": "python"
    }
  },
  "cells": [
    {
      "cell_type": "code",
      "execution_count": 1,
      "metadata": {
        "colab": {
          "base_uri": "https://localhost:8080/"
        },
        "id": "4_rslwE_hK8Y",
        "outputId": "11a1e075-0674-4194-bd7c-0eefeab4a778"
      },
      "outputs": [
        {
          "output_type": "stream",
          "name": "stdout",
          "text": [
            "Requirement already satisfied: altair in /usr/local/lib/python3.10/dist-packages (4.2.2)\n",
            "Requirement already satisfied: pandas in /usr/local/lib/python3.10/dist-packages (2.2.2)\n",
            "Requirement already satisfied: entrypoints in /usr/local/lib/python3.10/dist-packages (from altair) (0.4)\n",
            "Requirement already satisfied: jinja2 in /usr/local/lib/python3.10/dist-packages (from altair) (3.1.4)\n",
            "Requirement already satisfied: jsonschema>=3.0 in /usr/local/lib/python3.10/dist-packages (from altair) (4.23.0)\n",
            "Requirement already satisfied: numpy in /usr/local/lib/python3.10/dist-packages (from altair) (1.26.4)\n",
            "Requirement already satisfied: toolz in /usr/local/lib/python3.10/dist-packages (from altair) (0.12.1)\n",
            "Requirement already satisfied: python-dateutil>=2.8.2 in /usr/local/lib/python3.10/dist-packages (from pandas) (2.8.2)\n",
            "Requirement already satisfied: pytz>=2020.1 in /usr/local/lib/python3.10/dist-packages (from pandas) (2024.2)\n",
            "Requirement already satisfied: tzdata>=2022.7 in /usr/local/lib/python3.10/dist-packages (from pandas) (2024.2)\n",
            "Requirement already satisfied: attrs>=22.2.0 in /usr/local/lib/python3.10/dist-packages (from jsonschema>=3.0->altair) (24.2.0)\n",
            "Requirement already satisfied: jsonschema-specifications>=2023.03.6 in /usr/local/lib/python3.10/dist-packages (from jsonschema>=3.0->altair) (2024.10.1)\n",
            "Requirement already satisfied: referencing>=0.28.4 in /usr/local/lib/python3.10/dist-packages (from jsonschema>=3.0->altair) (0.35.1)\n",
            "Requirement already satisfied: rpds-py>=0.7.1 in /usr/local/lib/python3.10/dist-packages (from jsonschema>=3.0->altair) (0.21.0)\n",
            "Requirement already satisfied: six>=1.5 in /usr/local/lib/python3.10/dist-packages (from python-dateutil>=2.8.2->pandas) (1.16.0)\n",
            "Requirement already satisfied: MarkupSafe>=2.0 in /usr/local/lib/python3.10/dist-packages (from jinja2->altair) (3.0.2)\n"
          ]
        }
      ],
      "source": [
        "!pip install altair pandas\n"
      ]
    },
    {
      "cell_type": "code",
      "source": [
        "import altair as alt\n",
        "import pandas as pd\n"
      ],
      "metadata": {
        "id": "4KdZFpxlhXqq"
      },
      "execution_count": 2,
      "outputs": []
    },
    {
      "cell_type": "code",
      "source": [
        "# Cargar los datos desde el archivo CSV\n",
        "data = pd.read_csv('cambio_poblacion - Hoja 1.csv')\n"
      ],
      "metadata": {
        "id": "rp0hsNHKhaeH"
      },
      "execution_count": 3,
      "outputs": []
    },
    {
      "cell_type": "code",
      "source": [
        "# Verificar los nombres de las columnas\n",
        "print(data.columns)\n"
      ],
      "metadata": {
        "colab": {
          "base_uri": "https://localhost:8080/"
        },
        "id": "mQtx-4FQhdjH",
        "outputId": "f33c203a-d506-4a2d-c774-639ef064c61e"
      },
      "execution_count": 4,
      "outputs": [
        {
          "output_type": "stream",
          "name": "stdout",
          "text": [
            "Index(['Región', '0-14 años (%) cambio', '16-59 años (%) cambio',\n",
            "       '60 y más (%) cambio'],\n",
            "      dtype='object')\n"
          ]
        }
      ]
    },
    {
      "cell_type": "code",
      "source": [
        "# Filtrar los datos para obtener solo \"Magallanes\" y \"Total país\"\n",
        "data_filtered = data[(data['Región'] == 'Magallanes') | (data['Región'] == 'Total país')]\n"
      ],
      "metadata": {
        "id": "IN9IQRqahgCo"
      },
      "execution_count": 5,
      "outputs": []
    },
    {
      "cell_type": "code",
      "source": [
        "# Verificar que el filtrado incluya ambas regiones\n",
        "print(data_filtered)\n"
      ],
      "metadata": {
        "colab": {
          "base_uri": "https://localhost:8080/"
        },
        "id": "78_4B5h4hi3S",
        "outputId": "16f512a1-0dce-4e07-e9b4-824588aaa251"
      },
      "execution_count": 6,
      "outputs": [
        {
          "output_type": "stream",
          "name": "stdout",
          "text": [
            "        Región  0-14 años (%) cambio  16-59 años (%) cambio  \\\n",
            "0   Total país                  -5.3                   -2.8   \n",
            "16  Magallanes                  -7.1                   -5.8   \n",
            "\n",
            "    60 y más (%) cambio  \n",
            "0                   8.1  \n",
            "16                 12.9  \n"
          ]
        }
      ]
    },
    {
      "cell_type": "code",
      "source": [
        "# Reorganizar los datos para tener los grupos etarios en una columna separada\n",
        "data_melted = data_filtered.melt(id_vars=['Región'],\n",
        "                                 value_vars=['0-14 años (%) cambio', '16-59 años (%) cambio', '60 y más (%) cambio'],\n",
        "                                 var_name='Grupo etario',\n",
        "                                 value_name='Cambio (%)')\n"
      ],
      "metadata": {
        "id": "-a3zl17UhlI_"
      },
      "execution_count": 7,
      "outputs": []
    },
    {
      "cell_type": "code",
      "source": [
        "# Crear el gráfico en Altair\n",
        "chart = alt.Chart(data_melted).mark_bar().encode(\n",
        "    x=alt.X('Grupo etario:N', title='Grupo Etario'),\n",
        "    y=alt.Y('Cambio (%):Q', title='Cambio de Población (%)'),\n",
        "    color=alt.Color('Región:N', scale=alt.Scale(scheme='tableau10')),\n",
        "    column=alt.Column('Región:N', title='Región')\n",
        ").properties(\n",
        "    width=150,\n",
        "    height=300,\n",
        "    title='Cambio de Población por Edad en Magallanes vs Total País (2002-2021)'\n",
        ")\n",
        "\n",
        "chart\n"
      ],
      "metadata": {
        "colab": {
          "base_uri": "https://localhost:8080/",
          "height": 617
        },
        "id": "tuT1LRWmhnfU",
        "outputId": "e2a595ae-0478-4a0e-bf24-103f8331e242"
      },
      "execution_count": 8,
      "outputs": [
        {
          "output_type": "stream",
          "name": "stderr",
          "text": [
            "/usr/local/lib/python3.10/dist-packages/altair/utils/core.py:384: FutureWarning: the convert_dtype parameter is deprecated and will be removed in a future version.  Do ``ser.astype(object).apply()`` instead if you want ``convert_dtype=False``.\n",
            "  col = df[col_name].apply(to_list_if_array, convert_dtype=False)\n",
            "/usr/local/lib/python3.10/dist-packages/altair/utils/core.py:384: FutureWarning: the convert_dtype parameter is deprecated and will be removed in a future version.  Do ``ser.astype(object).apply()`` instead if you want ``convert_dtype=False``.\n",
            "  col = df[col_name].apply(to_list_if_array, convert_dtype=False)\n"
          ]
        },
        {
          "output_type": "execute_result",
          "data": {
            "text/html": [
              "\n",
              "<div id=\"altair-viz-c329a03f43cd4c1c8ccbdea0716ecf8d\"></div>\n",
              "<script type=\"text/javascript\">\n",
              "  var VEGA_DEBUG = (typeof VEGA_DEBUG == \"undefined\") ? {} : VEGA_DEBUG;\n",
              "  (function(spec, embedOpt){\n",
              "    let outputDiv = document.currentScript.previousElementSibling;\n",
              "    if (outputDiv.id !== \"altair-viz-c329a03f43cd4c1c8ccbdea0716ecf8d\") {\n",
              "      outputDiv = document.getElementById(\"altair-viz-c329a03f43cd4c1c8ccbdea0716ecf8d\");\n",
              "    }\n",
              "    const paths = {\n",
              "      \"vega\": \"https://cdn.jsdelivr.net/npm//vega@5?noext\",\n",
              "      \"vega-lib\": \"https://cdn.jsdelivr.net/npm//vega-lib?noext\",\n",
              "      \"vega-lite\": \"https://cdn.jsdelivr.net/npm//vega-lite@4.17.0?noext\",\n",
              "      \"vega-embed\": \"https://cdn.jsdelivr.net/npm//vega-embed@6?noext\",\n",
              "    };\n",
              "\n",
              "    function maybeLoadScript(lib, version) {\n",
              "      var key = `${lib.replace(\"-\", \"\")}_version`;\n",
              "      return (VEGA_DEBUG[key] == version) ?\n",
              "        Promise.resolve(paths[lib]) :\n",
              "        new Promise(function(resolve, reject) {\n",
              "          var s = document.createElement('script');\n",
              "          document.getElementsByTagName(\"head\")[0].appendChild(s);\n",
              "          s.async = true;\n",
              "          s.onload = () => {\n",
              "            VEGA_DEBUG[key] = version;\n",
              "            return resolve(paths[lib]);\n",
              "          };\n",
              "          s.onerror = () => reject(`Error loading script: ${paths[lib]}`);\n",
              "          s.src = paths[lib];\n",
              "        });\n",
              "    }\n",
              "\n",
              "    function showError(err) {\n",
              "      outputDiv.innerHTML = `<div class=\"error\" style=\"color:red;\">${err}</div>`;\n",
              "      throw err;\n",
              "    }\n",
              "\n",
              "    function displayChart(vegaEmbed) {\n",
              "      vegaEmbed(outputDiv, spec, embedOpt)\n",
              "        .catch(err => showError(`Javascript Error: ${err.message}<br>This usually means there's a typo in your chart specification. See the javascript console for the full traceback.`));\n",
              "    }\n",
              "\n",
              "    if(typeof define === \"function\" && define.amd) {\n",
              "      requirejs.config({paths});\n",
              "      require([\"vega-embed\"], displayChart, err => showError(`Error loading script: ${err.message}`));\n",
              "    } else {\n",
              "      maybeLoadScript(\"vega\", \"5\")\n",
              "        .then(() => maybeLoadScript(\"vega-lite\", \"4.17.0\"))\n",
              "        .then(() => maybeLoadScript(\"vega-embed\", \"6\"))\n",
              "        .catch(showError)\n",
              "        .then(() => displayChart(vegaEmbed));\n",
              "    }\n",
              "  })({\"config\": {\"view\": {\"continuousWidth\": 400, \"continuousHeight\": 300}}, \"data\": {\"name\": \"data-92ab6a8271545aaf2da828e0bdf444f4\"}, \"mark\": \"bar\", \"encoding\": {\"color\": {\"field\": \"Regi\\u00f3n\", \"scale\": {\"scheme\": \"tableau10\"}, \"type\": \"nominal\"}, \"column\": {\"field\": \"Regi\\u00f3n\", \"title\": \"Regi\\u00f3n\", \"type\": \"nominal\"}, \"x\": {\"field\": \"Grupo etario\", \"title\": \"Grupo Etario\", \"type\": \"nominal\"}, \"y\": {\"field\": \"Cambio (%)\", \"title\": \"Cambio de Poblaci\\u00f3n (%)\", \"type\": \"quantitative\"}}, \"height\": 300, \"title\": \"Cambio de Poblaci\\u00f3n por Edad en Magallanes vs Total Pa\\u00eds (2002-2021)\", \"width\": 150, \"$schema\": \"https://vega.github.io/schema/vega-lite/v4.17.0.json\", \"datasets\": {\"data-92ab6a8271545aaf2da828e0bdf444f4\": [{\"Regi\\u00f3n\": \"Total pa\\u00eds\", \"Grupo etario\": \"0-14 a\\u00f1os (%) cambio\", \"Cambio (%)\": -5.3}, {\"Regi\\u00f3n\": \"Magallanes\", \"Grupo etario\": \"0-14 a\\u00f1os (%) cambio\", \"Cambio (%)\": -7.1}, {\"Regi\\u00f3n\": \"Total pa\\u00eds\", \"Grupo etario\": \"16-59 a\\u00f1os (%) cambio\", \"Cambio (%)\": -2.8}, {\"Regi\\u00f3n\": \"Magallanes\", \"Grupo etario\": \"16-59 a\\u00f1os (%) cambio\", \"Cambio (%)\": -5.8}, {\"Regi\\u00f3n\": \"Total pa\\u00eds\", \"Grupo etario\": \"60 y m\\u00e1s (%) cambio\", \"Cambio (%)\": 8.1}, {\"Regi\\u00f3n\": \"Magallanes\", \"Grupo etario\": \"60 y m\\u00e1s (%) cambio\", \"Cambio (%)\": 12.9}]}}, {\"mode\": \"vega-lite\"});\n",
              "</script>"
            ],
            "text/plain": [
              "alt.Chart(...)"
            ]
          },
          "metadata": {},
          "execution_count": 8
        }
      ]
    }
  ]
}